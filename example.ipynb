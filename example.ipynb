{
 "cells": [
  {
   "cell_type": "code",
   "execution_count": 2,
   "id": "a20fee87",
   "metadata": {},
   "outputs": [],
   "source": [
    "## the following line is just MAGIC ##############################################\n",
    "## we need it to be able to draw images on the screen ############################\n",
    "from medialib import *\n",
    "initialize() # always the first instruction of the program\n",
    "##################################################################################\n",
    "clear(0,0,255)\n",
    "draw(\"images/cake.png\",100,150)\n",
    "draw(\"images/cake2.png\",180,155)\n",
    "text(\"Example 2\",10,10,16)\n",
    "text(\"Click the left button on the mouse to continue...\",10,500,16)\n",
    "wait_mouse_leftclick()\n",
    "\n",
    "all_done() # always the last instruction of the program"
   ]
  },
  {
   "cell_type": "code",
   "execution_count": null,
   "id": "1315867b",
   "metadata": {},
   "outputs": [],
   "source": []
  }
 ],
 "metadata": {
  "kernelspec": {
   "display_name": "Python 3.9.12 ('vtk3.9')",
   "language": "python",
   "name": "python3"
  },
  "language_info": {
   "codemirror_mode": {
    "name": "ipython",
    "version": 3
   },
   "file_extension": ".py",
   "mimetype": "text/x-python",
   "name": "python",
   "nbconvert_exporter": "python",
   "pygments_lexer": "ipython3",
   "version": "3.9.12"
  },
  "vscode": {
   "interpreter": {
    "hash": "133cfc5b26dac764090349e0f2de4c1b5c5a374ee563eb77f354cc41d2592a88"
   }
  }
 },
 "nbformat": 4,
 "nbformat_minor": 5
}
