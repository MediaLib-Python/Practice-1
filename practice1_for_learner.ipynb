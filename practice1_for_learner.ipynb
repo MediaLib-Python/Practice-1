{
 "cells": [
  {
   "cell_type": "code",
   "execution_count": null,
   "id": "3c8ead16",
   "metadata": {},
   "outputs": [],
   "source": [
    "## the following line is just MAGIC ##############################################\n",
    "## we need it to be able to draw images on the screen ############################\n",
    "from medialib import *\n",
    "initialize() # always the first instruction of the program\n",
    "##################################################################################\n",
    "\n",
    "draw(\"eye.png\",100,100)\n",
    "draw(\"eye2.png\",100+50,100)\n",
    "print(\"Click the left button on the mouse to continue...\") \n",
    "#try to change print() to text()and see what happens \n",
    "\n",
    "wait_mouse_leftclick()\n",
    "\n",
    "\n",
    "\n",
    "\n",
    "#Move both eye.png and eye2.png 100 downwards first,\n",
    "#pause the control flow of the program until the mouse's left button is pressed. \n",
    "\n",
    "\n",
    "\n",
    "\n",
    "\n",
    "#Move both eye.png and eye2.png 50 going towards the right,\n",
    "#pause the control flow of the program until the mouse's left button is pressed. \n",
    "\n",
    "\n",
    "\n",
    "print(\"done\")\n",
    "\n",
    "all_done() # always the last instruction of the program"
   ]
  },
  {
   "cell_type": "code",
   "execution_count": null,
   "id": "bddc6ed4",
   "metadata": {},
   "outputs": [],
   "source": [
    "##use variables to make the code more readable\n",
    "\n",
    "\n",
    "\n"
   ]
  },
  {
   "cell_type": "code",
   "execution_count": null,
   "id": "374c55f5",
   "metadata": {},
   "outputs": [],
   "source": [
    "## try to define a function yourself to further improve the readability of the previous code\n",
    "\n",
    "\n"
   ]
  }
 ],
 "metadata": {
  "kernelspec": {
   "display_name": "Python 3.9.12 ('vtk3.9')",
   "language": "python",
   "name": "python3"
  },
  "language_info": {
   "codemirror_mode": {
    "name": "ipython",
    "version": 3
   },
   "file_extension": ".py",
   "mimetype": "text/x-python",
   "name": "python",
   "nbconvert_exporter": "python",
   "pygments_lexer": "ipython3",
   "version": "3.9.12"
  },
  "vscode": {
   "interpreter": {
    "hash": "133cfc5b26dac764090349e0f2de4c1b5c5a374ee563eb77f354cc41d2592a88"
   }
  }
 },
 "nbformat": 4,
 "nbformat_minor": 5
}
